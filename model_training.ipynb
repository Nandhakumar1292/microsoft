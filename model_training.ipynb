{
  "cells": [
    {
      "cell_type": "markdown",
      "metadata": {
        "id": "YqKB-W0us5AC"
      },
      "source": [
        "# Model and Evaluation"
      ]
    },
    {
      "cell_type": "code",
      "execution_count": null,
      "metadata": {
        "id": "Y36_DML8M2SG"
      },
      "outputs": [],
      "source": [
        "import pandas as pd\n",
        "import numpy as np\n",
        "import matplotlib.pyplot as plt\n",
        "import seaborn as sns\n",
        "%matplotlib inline\n",
        "pd.set_option('display.max_columns', None)\n",
        "\n",
        "import warnings\n",
        "warnings.filterwarnings('ignore')"
      ]
    },
    {
      "cell_type": "markdown",
      "metadata": {
        "id": "AzCug-x_MfnD"
      },
      "source": [
        "## Importing the Cleaned Train Csv"
      ]
    },
    {
      "cell_type": "code",
      "execution_count": null,
      "metadata": {
        "colab": {
          "base_uri": "https://localhost:8080/"
        },
        "id": "xV_BbBJPBkKT",
        "outputId": "64cbbf62-d017-495b-bd8a-0709b8dc3ade"
      },
      "outputs": [
        {
          "output_type": "execute_result",
          "data": {
            "text/plain": [
              "              Id  OrgId  IncidentId  AlertId  DetectorId  AlertTitle  \\\n",
              "0  1709396985476     26       18583   687462          31         813   \n",
              "1   927712939180     33        5065     3990          38          25   \n",
              "2  1090921697002    201      150787   807590         419         444   \n",
              "3  1434519079555    204      108287    28575          44        1233   \n",
              "4  1005022347708     54      528202  1458226         102       58829   \n",
              "\n",
              "   Category  IncidentGrade  EntityType  EvidenceRole  IpAddress     Url  \\\n",
              "0        12              0           9             1     360606  160396   \n",
              "1         9              0          17             0     360606  160396   \n",
              "2         6              0          17             0     360606  160396   \n",
              "3        16              2           9             1     360606  160396   \n",
              "4         7              0           9             0     360606  160396   \n",
              "\n",
              "   AccountName  DeviceName  NetworkMessageId  RegistryKey  RegistryValueData  \\\n",
              "0       453297      153085            529644         1631                860   \n",
              "1       453297        3142            529644         1631                860   \n",
              "2       453297        4181            529644         1631                860   \n",
              "3       453297      153085            529644         1631                860   \n",
              "4       453297      153085            529644         1631                860   \n",
              "\n",
              "   ApplicationName  OAuthApplicationId  FileName  ResourceIdName  OSVersion  \\\n",
              "0             3421                 881      4132            3586         66   \n",
              "1             3421                 881    289573            3586         66   \n",
              "2             3421                 881    289573            3586         66   \n",
              "3             3421                 881     97007            3586         66   \n",
              "4             3421                 881     39978            3586         66   \n",
              "\n",
              "    City  Day  Year  Hour   Time  \n",
              "0  10630    6  2024     5  21407  \n",
              "1  10630    3  2024    10  38709  \n",
              "2  10630   13  2024     3  13000  \n",
              "3  10630    8  2024    16  60897  \n",
              "4  10630    9  2024     2  10081  "
            ],
            "text/html": [
              "\n",
              "  <div id=\"df-da24d2ff-5571-451f-ae37-9bfeb5d6bb5a\" class=\"colab-df-container\">\n",
              "    <div>\n",
              "<style scoped>\n",
              "    .dataframe tbody tr th:only-of-type {\n",
              "        vertical-align: middle;\n",
              "    }\n",
              "\n",
              "    .dataframe tbody tr th {\n",
              "        vertical-align: top;\n",
              "    }\n",
              "\n",
              "    .dataframe thead th {\n",
              "        text-align: right;\n",
              "    }\n",
              "</style>\n",
              "<table border=\"1\" class=\"dataframe\">\n",
              "  <thead>\n",
              "    <tr style=\"text-align: right;\">\n",
              "      <th></th>\n",
              "      <th>Id</th>\n",
              "      <th>OrgId</th>\n",
              "      <th>IncidentId</th>\n",
              "      <th>AlertId</th>\n",
              "      <th>DetectorId</th>\n",
              "      <th>AlertTitle</th>\n",
              "      <th>Category</th>\n",
              "      <th>IncidentGrade</th>\n",
              "      <th>EntityType</th>\n",
              "      <th>EvidenceRole</th>\n",
              "      <th>IpAddress</th>\n",
              "      <th>Url</th>\n",
              "      <th>AccountName</th>\n",
              "      <th>DeviceName</th>\n",
              "      <th>NetworkMessageId</th>\n",
              "      <th>RegistryKey</th>\n",
              "      <th>RegistryValueData</th>\n",
              "      <th>ApplicationName</th>\n",
              "      <th>OAuthApplicationId</th>\n",
              "      <th>FileName</th>\n",
              "      <th>ResourceIdName</th>\n",
              "      <th>OSVersion</th>\n",
              "      <th>City</th>\n",
              "      <th>Day</th>\n",
              "      <th>Year</th>\n",
              "      <th>Hour</th>\n",
              "      <th>Time</th>\n",
              "    </tr>\n",
              "  </thead>\n",
              "  <tbody>\n",
              "    <tr>\n",
              "      <th>0</th>\n",
              "      <td>1709396985476</td>\n",
              "      <td>26</td>\n",
              "      <td>18583</td>\n",
              "      <td>687462</td>\n",
              "      <td>31</td>\n",
              "      <td>813</td>\n",
              "      <td>12</td>\n",
              "      <td>0</td>\n",
              "      <td>9</td>\n",
              "      <td>1</td>\n",
              "      <td>360606</td>\n",
              "      <td>160396</td>\n",
              "      <td>453297</td>\n",
              "      <td>153085</td>\n",
              "      <td>529644</td>\n",
              "      <td>1631</td>\n",
              "      <td>860</td>\n",
              "      <td>3421</td>\n",
              "      <td>881</td>\n",
              "      <td>4132</td>\n",
              "      <td>3586</td>\n",
              "      <td>66</td>\n",
              "      <td>10630</td>\n",
              "      <td>6</td>\n",
              "      <td>2024</td>\n",
              "      <td>5</td>\n",
              "      <td>21407</td>\n",
              "    </tr>\n",
              "    <tr>\n",
              "      <th>1</th>\n",
              "      <td>927712939180</td>\n",
              "      <td>33</td>\n",
              "      <td>5065</td>\n",
              "      <td>3990</td>\n",
              "      <td>38</td>\n",
              "      <td>25</td>\n",
              "      <td>9</td>\n",
              "      <td>0</td>\n",
              "      <td>17</td>\n",
              "      <td>0</td>\n",
              "      <td>360606</td>\n",
              "      <td>160396</td>\n",
              "      <td>453297</td>\n",
              "      <td>3142</td>\n",
              "      <td>529644</td>\n",
              "      <td>1631</td>\n",
              "      <td>860</td>\n",
              "      <td>3421</td>\n",
              "      <td>881</td>\n",
              "      <td>289573</td>\n",
              "      <td>3586</td>\n",
              "      <td>66</td>\n",
              "      <td>10630</td>\n",
              "      <td>3</td>\n",
              "      <td>2024</td>\n",
              "      <td>10</td>\n",
              "      <td>38709</td>\n",
              "    </tr>\n",
              "    <tr>\n",
              "      <th>2</th>\n",
              "      <td>1090921697002</td>\n",
              "      <td>201</td>\n",
              "      <td>150787</td>\n",
              "      <td>807590</td>\n",
              "      <td>419</td>\n",
              "      <td>444</td>\n",
              "      <td>6</td>\n",
              "      <td>0</td>\n",
              "      <td>17</td>\n",
              "      <td>0</td>\n",
              "      <td>360606</td>\n",
              "      <td>160396</td>\n",
              "      <td>453297</td>\n",
              "      <td>4181</td>\n",
              "      <td>529644</td>\n",
              "      <td>1631</td>\n",
              "      <td>860</td>\n",
              "      <td>3421</td>\n",
              "      <td>881</td>\n",
              "      <td>289573</td>\n",
              "      <td>3586</td>\n",
              "      <td>66</td>\n",
              "      <td>10630</td>\n",
              "      <td>13</td>\n",
              "      <td>2024</td>\n",
              "      <td>3</td>\n",
              "      <td>13000</td>\n",
              "    </tr>\n",
              "    <tr>\n",
              "      <th>3</th>\n",
              "      <td>1434519079555</td>\n",
              "      <td>204</td>\n",
              "      <td>108287</td>\n",
              "      <td>28575</td>\n",
              "      <td>44</td>\n",
              "      <td>1233</td>\n",
              "      <td>16</td>\n",
              "      <td>2</td>\n",
              "      <td>9</td>\n",
              "      <td>1</td>\n",
              "      <td>360606</td>\n",
              "      <td>160396</td>\n",
              "      <td>453297</td>\n",
              "      <td>153085</td>\n",
              "      <td>529644</td>\n",
              "      <td>1631</td>\n",
              "      <td>860</td>\n",
              "      <td>3421</td>\n",
              "      <td>881</td>\n",
              "      <td>97007</td>\n",
              "      <td>3586</td>\n",
              "      <td>66</td>\n",
              "      <td>10630</td>\n",
              "      <td>8</td>\n",
              "      <td>2024</td>\n",
              "      <td>16</td>\n",
              "      <td>60897</td>\n",
              "    </tr>\n",
              "    <tr>\n",
              "      <th>4</th>\n",
              "      <td>1005022347708</td>\n",
              "      <td>54</td>\n",
              "      <td>528202</td>\n",
              "      <td>1458226</td>\n",
              "      <td>102</td>\n",
              "      <td>58829</td>\n",
              "      <td>7</td>\n",
              "      <td>0</td>\n",
              "      <td>9</td>\n",
              "      <td>0</td>\n",
              "      <td>360606</td>\n",
              "      <td>160396</td>\n",
              "      <td>453297</td>\n",
              "      <td>153085</td>\n",
              "      <td>529644</td>\n",
              "      <td>1631</td>\n",
              "      <td>860</td>\n",
              "      <td>3421</td>\n",
              "      <td>881</td>\n",
              "      <td>39978</td>\n",
              "      <td>3586</td>\n",
              "      <td>66</td>\n",
              "      <td>10630</td>\n",
              "      <td>9</td>\n",
              "      <td>2024</td>\n",
              "      <td>2</td>\n",
              "      <td>10081</td>\n",
              "    </tr>\n",
              "  </tbody>\n",
              "</table>\n",
              "</div>\n",
              "    <div class=\"colab-df-buttons\">\n",
              "\n",
              "  <div class=\"colab-df-container\">\n",
              "    <button class=\"colab-df-convert\" onclick=\"convertToInteractive('df-da24d2ff-5571-451f-ae37-9bfeb5d6bb5a')\"\n",
              "            title=\"Convert this dataframe to an interactive table.\"\n",
              "            style=\"display:none;\">\n",
              "\n",
              "  <svg xmlns=\"http://www.w3.org/2000/svg\" height=\"24px\" viewBox=\"0 -960 960 960\">\n",
              "    <path d=\"M120-120v-720h720v720H120Zm60-500h600v-160H180v160Zm220 220h160v-160H400v160Zm0 220h160v-160H400v160ZM180-400h160v-160H180v160Zm440 0h160v-160H620v160ZM180-180h160v-160H180v160Zm440 0h160v-160H620v160Z\"/>\n",
              "  </svg>\n",
              "    </button>\n",
              "\n",
              "  <style>\n",
              "    .colab-df-container {\n",
              "      display:flex;\n",
              "      gap: 12px;\n",
              "    }\n",
              "\n",
              "    .colab-df-convert {\n",
              "      background-color: #E8F0FE;\n",
              "      border: none;\n",
              "      border-radius: 50%;\n",
              "      cursor: pointer;\n",
              "      display: none;\n",
              "      fill: #1967D2;\n",
              "      height: 32px;\n",
              "      padding: 0 0 0 0;\n",
              "      width: 32px;\n",
              "    }\n",
              "\n",
              "    .colab-df-convert:hover {\n",
              "      background-color: #E2EBFA;\n",
              "      box-shadow: 0px 1px 2px rgba(60, 64, 67, 0.3), 0px 1px 3px 1px rgba(60, 64, 67, 0.15);\n",
              "      fill: #174EA6;\n",
              "    }\n",
              "\n",
              "    .colab-df-buttons div {\n",
              "      margin-bottom: 4px;\n",
              "    }\n",
              "\n",
              "    [theme=dark] .colab-df-convert {\n",
              "      background-color: #3B4455;\n",
              "      fill: #D2E3FC;\n",
              "    }\n",
              "\n",
              "    [theme=dark] .colab-df-convert:hover {\n",
              "      background-color: #434B5C;\n",
              "      box-shadow: 0px 1px 3px 1px rgba(0, 0, 0, 0.15);\n",
              "      filter: drop-shadow(0px 1px 2px rgba(0, 0, 0, 0.3));\n",
              "      fill: #FFFFFF;\n",
              "    }\n",
              "  </style>\n",
              "\n",
              "    <script>\n",
              "      const buttonEl =\n",
              "        document.querySelector('#df-da24d2ff-5571-451f-ae37-9bfeb5d6bb5a button.colab-df-convert');\n",
              "      buttonEl.style.display =\n",
              "        google.colab.kernel.accessAllowed ? 'block' : 'none';\n",
              "\n",
              "      async function convertToInteractive(key) {\n",
              "        const element = document.querySelector('#df-da24d2ff-5571-451f-ae37-9bfeb5d6bb5a');\n",
              "        const dataTable =\n",
              "          await google.colab.kernel.invokeFunction('convertToInteractive',\n",
              "                                                    [key], {});\n",
              "        if (!dataTable) return;\n",
              "\n",
              "        const docLinkHtml = 'Like what you see? Visit the ' +\n",
              "          '<a target=\"_blank\" href=https://colab.research.google.com/notebooks/data_table.ipynb>data table notebook</a>'\n",
              "          + ' to learn more about interactive tables.';\n",
              "        element.innerHTML = '';\n",
              "        dataTable['output_type'] = 'display_data';\n",
              "        await google.colab.output.renderOutput(dataTable, element);\n",
              "        const docLink = document.createElement('div');\n",
              "        docLink.innerHTML = docLinkHtml;\n",
              "        element.appendChild(docLink);\n",
              "      }\n",
              "    </script>\n",
              "  </div>\n",
              "\n",
              "\n",
              "<div id=\"df-75252531-833d-4014-a5cd-01997770017b\">\n",
              "  <button class=\"colab-df-quickchart\" onclick=\"quickchart('df-75252531-833d-4014-a5cd-01997770017b')\"\n",
              "            title=\"Suggest charts\"\n",
              "            style=\"display:none;\">\n",
              "\n",
              "<svg xmlns=\"http://www.w3.org/2000/svg\" height=\"24px\"viewBox=\"0 0 24 24\"\n",
              "     width=\"24px\">\n",
              "    <g>\n",
              "        <path d=\"M19 3H5c-1.1 0-2 .9-2 2v14c0 1.1.9 2 2 2h14c1.1 0 2-.9 2-2V5c0-1.1-.9-2-2-2zM9 17H7v-7h2v7zm4 0h-2V7h2v10zm4 0h-2v-4h2v4z\"/>\n",
              "    </g>\n",
              "</svg>\n",
              "  </button>\n",
              "\n",
              "<style>\n",
              "  .colab-df-quickchart {\n",
              "      --bg-color: #E8F0FE;\n",
              "      --fill-color: #1967D2;\n",
              "      --hover-bg-color: #E2EBFA;\n",
              "      --hover-fill-color: #174EA6;\n",
              "      --disabled-fill-color: #AAA;\n",
              "      --disabled-bg-color: #DDD;\n",
              "  }\n",
              "\n",
              "  [theme=dark] .colab-df-quickchart {\n",
              "      --bg-color: #3B4455;\n",
              "      --fill-color: #D2E3FC;\n",
              "      --hover-bg-color: #434B5C;\n",
              "      --hover-fill-color: #FFFFFF;\n",
              "      --disabled-bg-color: #3B4455;\n",
              "      --disabled-fill-color: #666;\n",
              "  }\n",
              "\n",
              "  .colab-df-quickchart {\n",
              "    background-color: var(--bg-color);\n",
              "    border: none;\n",
              "    border-radius: 50%;\n",
              "    cursor: pointer;\n",
              "    display: none;\n",
              "    fill: var(--fill-color);\n",
              "    height: 32px;\n",
              "    padding: 0;\n",
              "    width: 32px;\n",
              "  }\n",
              "\n",
              "  .colab-df-quickchart:hover {\n",
              "    background-color: var(--hover-bg-color);\n",
              "    box-shadow: 0 1px 2px rgba(60, 64, 67, 0.3), 0 1px 3px 1px rgba(60, 64, 67, 0.15);\n",
              "    fill: var(--button-hover-fill-color);\n",
              "  }\n",
              "\n",
              "  .colab-df-quickchart-complete:disabled,\n",
              "  .colab-df-quickchart-complete:disabled:hover {\n",
              "    background-color: var(--disabled-bg-color);\n",
              "    fill: var(--disabled-fill-color);\n",
              "    box-shadow: none;\n",
              "  }\n",
              "\n",
              "  .colab-df-spinner {\n",
              "    border: 2px solid var(--fill-color);\n",
              "    border-color: transparent;\n",
              "    border-bottom-color: var(--fill-color);\n",
              "    animation:\n",
              "      spin 1s steps(1) infinite;\n",
              "  }\n",
              "\n",
              "  @keyframes spin {\n",
              "    0% {\n",
              "      border-color: transparent;\n",
              "      border-bottom-color: var(--fill-color);\n",
              "      border-left-color: var(--fill-color);\n",
              "    }\n",
              "    20% {\n",
              "      border-color: transparent;\n",
              "      border-left-color: var(--fill-color);\n",
              "      border-top-color: var(--fill-color);\n",
              "    }\n",
              "    30% {\n",
              "      border-color: transparent;\n",
              "      border-left-color: var(--fill-color);\n",
              "      border-top-color: var(--fill-color);\n",
              "      border-right-color: var(--fill-color);\n",
              "    }\n",
              "    40% {\n",
              "      border-color: transparent;\n",
              "      border-right-color: var(--fill-color);\n",
              "      border-top-color: var(--fill-color);\n",
              "    }\n",
              "    60% {\n",
              "      border-color: transparent;\n",
              "      border-right-color: var(--fill-color);\n",
              "    }\n",
              "    80% {\n",
              "      border-color: transparent;\n",
              "      border-right-color: var(--fill-color);\n",
              "      border-bottom-color: var(--fill-color);\n",
              "    }\n",
              "    90% {\n",
              "      border-color: transparent;\n",
              "      border-bottom-color: var(--fill-color);\n",
              "    }\n",
              "  }\n",
              "</style>\n",
              "\n",
              "  <script>\n",
              "    async function quickchart(key) {\n",
              "      const quickchartButtonEl =\n",
              "        document.querySelector('#' + key + ' button');\n",
              "      quickchartButtonEl.disabled = true;  // To prevent multiple clicks.\n",
              "      quickchartButtonEl.classList.add('colab-df-spinner');\n",
              "      try {\n",
              "        const charts = await google.colab.kernel.invokeFunction(\n",
              "            'suggestCharts', [key], {});\n",
              "      } catch (error) {\n",
              "        console.error('Error during call to suggestCharts:', error);\n",
              "      }\n",
              "      quickchartButtonEl.classList.remove('colab-df-spinner');\n",
              "      quickchartButtonEl.classList.add('colab-df-quickchart-complete');\n",
              "    }\n",
              "    (() => {\n",
              "      let quickchartButtonEl =\n",
              "        document.querySelector('#df-75252531-833d-4014-a5cd-01997770017b button');\n",
              "      quickchartButtonEl.style.display =\n",
              "        google.colab.kernel.accessAllowed ? 'block' : 'none';\n",
              "    })();\n",
              "  </script>\n",
              "</div>\n",
              "\n",
              "    </div>\n",
              "  </div>\n"
            ],
            "application/vnd.google.colaboratory.intrinsic+json": {
              "type": "dataframe",
              "variable_name": "df_train"
            }
          },
          "metadata": {},
          "execution_count": 4
        }
      ],
      "source": [
        "df_train = pd.read_csv('/content/drive/MyDrive/Project/4.Microsoft/train_cleaned.csv')\n",
        "df_train.head(5)"
      ]
    },
    {
      "cell_type": "code",
      "execution_count": null,
      "metadata": {
        "colab": {
          "base_uri": "https://localhost:8080/"
        },
        "id": "wJJU9EM-NHsc",
        "outputId": "253d80ae-2e3f-43be-ada3-1d25570f6e3d"
      },
      "outputs": [
        {
          "output_type": "execute_result",
          "data": {
            "text/plain": [
              "(4577400, 27)"
            ]
          },
          "metadata": {},
          "execution_count": 5
        }
      ],
      "source": [
        "df_train.shape"
      ]
    },
    {
      "cell_type": "code",
      "execution_count": null,
      "metadata": {
        "colab": {
          "base_uri": "https://localhost:8080/"
        },
        "id": "baBLflHuNuNQ",
        "outputId": "b62ff846-5479-486e-dab6-53327e16bf5d"
      },
      "outputs": [
        {
          "output_type": "execute_result",
          "data": {
            "text/plain": [
              "Index(['Id', 'OrgId', 'IncidentId', 'AlertId', 'DetectorId', 'AlertTitle',\n",
              "       'Category', 'IncidentGrade', 'EntityType', 'EvidenceRole', 'IpAddress',\n",
              "       'Url', 'AccountName', 'DeviceName', 'NetworkMessageId', 'RegistryKey',\n",
              "       'RegistryValueData', 'ApplicationName', 'OAuthApplicationId',\n",
              "       'FileName', 'ResourceIdName', 'OSVersion', 'City', 'Day', 'Year',\n",
              "       'Hour', 'Time'],\n",
              "      dtype='object')"
            ]
          },
          "metadata": {},
          "execution_count": 6
        }
      ],
      "source": [
        "df_train.columns"
      ]
    },
    {
      "cell_type": "code",
      "execution_count": null,
      "metadata": {
        "id": "Nq9BQhOTOISF"
      },
      "outputs": [],
      "source": [
        "from sklearn.model_selection import train_test_split\n",
        "\n",
        "X = df_train.drop(columns=['Id','IncidentGrade'])\n",
        "y = df_train['IncidentGrade']\n",
        "\n",
        "# Stratified train-validation split\n",
        "X_train, X_test, y_train, y_test = train_test_split(X, y, test_size=0.3, stratify=y, random_state=42)"
      ]
    },
    {
      "cell_type": "code",
      "execution_count": null,
      "metadata": {
        "colab": {
          "base_uri": "https://localhost:8080/"
        },
        "id": "H_hVmOqQOiNm",
        "outputId": "5108a3f7-9c48-4486-b68a-f670bf31afff"
      },
      "outputs": [
        {
          "output_type": "stream",
          "name": "stdout",
          "text": [
            "y_train:  IncidentGrade\n",
            "0    1381760\n",
            "2    1126270\n",
            "1     696150\n",
            "Name: count, dtype: int64\n",
            "\n",
            "\n",
            "y_test:  IncidentGrade\n",
            "0    592183\n",
            "2    482687\n",
            "1    298350\n",
            "Name: count, dtype: int64\n"
          ]
        }
      ],
      "source": [
        "print(\"y_train: \",y_train.value_counts())\n",
        "print(\"\\n\")\n",
        "print(\"y_test: \",y_test.value_counts())"
      ]
    },
    {
      "cell_type": "code",
      "execution_count": null,
      "metadata": {
        "colab": {
          "base_uri": "https://localhost:8080/"
        },
        "id": "DFNmYOK4OiLS",
        "outputId": "f0d645ff-84ad-47c3-e723-00c0e3157772"
      },
      "outputs": [
        {
          "output_type": "stream",
          "name": "stdout",
          "text": [
            "y_train:  IncidentGrade\n",
            "0    0.431237\n",
            "2    0.351500\n",
            "1    0.217263\n",
            "Name: proportion, dtype: float64\n",
            "\n",
            "\n",
            "y_test:  IncidentGrade\n",
            "0    0.431237\n",
            "2    0.351500\n",
            "1    0.217263\n",
            "Name: proportion, dtype: float64\n"
          ]
        }
      ],
      "source": [
        "print(\"y_train: \",y_train.value_counts(normalize=True))\n",
        "print(\"\\n\")\n",
        "print(\"y_test: \",y_test.value_counts(normalize=True))"
      ]
    },
    {
      "cell_type": "markdown",
      "metadata": {
        "id": "v8QNjP1zST4O"
      },
      "source": [
        "## Selecting the Best Model"
      ]
    },
    {
      "cell_type": "code",
      "execution_count": null,
      "metadata": {
        "id": "HzOxPl_SSajC"
      },
      "outputs": [],
      "source": [
        "from sklearn.metrics import classification_report"
      ]
    },
    {
      "cell_type": "markdown",
      "metadata": {
        "id": "p8KB3-BrSKkX"
      },
      "source": [
        "### Logistic Regression"
      ]
    },
    {
      "cell_type": "code",
      "execution_count": null,
      "metadata": {
        "id": "ttGqJg2mSPxo"
      },
      "outputs": [],
      "source": [
        "from sklearn.linear_model import LogisticRegression"
      ]
    },
    {
      "cell_type": "code",
      "execution_count": null,
      "metadata": {
        "colab": {
          "base_uri": "https://localhost:8080/"
        },
        "id": "ePT8l-8VRvZs",
        "outputId": "fc7b2df4-8db5-4443-ef05-6b332d4666f4"
      },
      "outputs": [
        {
          "output_type": "stream",
          "name": "stdout",
          "text": [
            "\n",
            "Training Logistic Regression...\n",
            "Logistic Regression Classification Report for Train :\n",
            "               precision    recall  f1-score   support\n",
            "\n",
            "     Class 0       0.60      0.46      0.52   1381760\n",
            "     Class 1       0.34      0.33      0.33    696150\n",
            "     Class 2       0.52      0.69      0.60   1126270\n",
            "\n",
            "    accuracy                           0.51   3204180\n",
            "   macro avg       0.49      0.49      0.48   3204180\n",
            "weighted avg       0.52      0.51      0.51   3204180\n",
            "\n",
            "-----------------------------------------------------------------------\n",
            "Logistic Regression Classification Report for Test :\n",
            "               precision    recall  f1-score   support\n",
            "\n",
            "     Class 0       0.60      0.45      0.52    592183\n",
            "     Class 1       0.34      0.33      0.33    298350\n",
            "     Class 2       0.52      0.69      0.60    482687\n",
            "\n",
            "    accuracy                           0.51   1373220\n",
            "   macro avg       0.49      0.49      0.48   1373220\n",
            "weighted avg       0.52      0.51      0.51   1373220\n",
            "\n"
          ]
        }
      ],
      "source": [
        "# Logistic Regression Model\n",
        "lr = LogisticRegression(class_weight='balanced', random_state=42)\n",
        "\n",
        "# Training the Logistic Regression model\n",
        "print(\"\\nTraining Logistic Regression...\")\n",
        "lr.fit(X_train, y_train)\n",
        "\n",
        "# Predicting on the validation set\n",
        "y_pred_train_lr = lr.predict(X_train)\n",
        "y_pred_test_lr = lr.predict(X_test)\n",
        "\n",
        "# Classification Report for Logistic Regression\n",
        "print(\"Logistic Regression Classification Report for Train :\\n\", classification_report(y_train, y_pred_train_lr, target_names=['Class 0', 'Class 1', 'Class 2']))\n",
        "print(\"-----------------------------------------------------------------------\")\n",
        "print(\"Logistic Regression Classification Report for Test :\\n\", classification_report(y_test, y_pred_test_lr, target_names=['Class 0', 'Class 1', 'Class 2']))\n"
      ]
    },
    {
      "cell_type": "markdown",
      "metadata": {
        "id": "-SA5E9W3ToZJ"
      },
      "source": [
        "### Decision Tree Classifier"
      ]
    },
    {
      "cell_type": "code",
      "execution_count": null,
      "metadata": {
        "id": "2DIpFk_1TIgm"
      },
      "outputs": [],
      "source": [
        "from sklearn.tree import DecisionTreeClassifier"
      ]
    },
    {
      "cell_type": "code",
      "execution_count": null,
      "metadata": {
        "colab": {
          "base_uri": "https://localhost:8080/"
        },
        "id": "S23BiQ4-XVRx",
        "outputId": "43194685-28ff-46e2-aeb9-d804c5f70cad"
      },
      "outputs": [
        {
          "output_type": "stream",
          "name": "stdout",
          "text": [
            "\n",
            "Training Decision Tree Classifier...\n",
            "Decision Tree Classifier Classification Report for Train :\n",
            "               precision    recall  f1-score   support\n",
            "\n",
            "     Class 0       1.00      1.00      1.00   1381760\n",
            "     Class 1       1.00      1.00      1.00    696150\n",
            "     Class 2       1.00      1.00      1.00   1126270\n",
            "\n",
            "    accuracy                           1.00   3204180\n",
            "   macro avg       1.00      1.00      1.00   3204180\n",
            "weighted avg       1.00      1.00      1.00   3204180\n",
            "\n",
            "-----------------------------------------------------------------------\n",
            "Decision Tree Classifier Classification Report for Test :\n",
            "               precision    recall  f1-score   support\n",
            "\n",
            "     Class 0       0.99      0.99      0.99    592183\n",
            "     Class 1       0.98      0.98      0.98    298350\n",
            "     Class 2       0.99      0.99      0.99    482687\n",
            "\n",
            "    accuracy                           0.99   1373220\n",
            "   macro avg       0.99      0.99      0.99   1373220\n",
            "weighted avg       0.99      0.99      0.99   1373220\n",
            "\n"
          ]
        }
      ],
      "source": [
        "# prompt: based on logestic regression i need for decision tree classifier\n",
        "\n",
        "# Decision Tree Classifier Model\n",
        "dt = DecisionTreeClassifier(class_weight='balanced', random_state=42)\n",
        "\n",
        "# Training the Decision Tree Classifier model\n",
        "print(\"\\nTraining Decision Tree Classifier...\")\n",
        "dt.fit(X_train, y_train)\n",
        "\n",
        "# Predicting on the validation set\n",
        "y_pred_train_dt = dt.predict(X_train)\n",
        "y_pred_test_dt = dt.predict(X_test)\n",
        "\n",
        "# Classification Report for Decision Tree Classifier\n",
        "print(\"Decision Tree Classifier Classification Report for Train :\\n\", classification_report(y_train, y_pred_train_dt, target_names=['Class 0', 'Class 1', 'Class 2']))\n",
        "print(\"-----------------------------------------------------------------------\")\n",
        "print(\"Decision Tree Classifier Classification Report for Test :\\n\", classification_report(y_test, y_pred_test_dt, target_names=['Class 0', 'Class 1', 'Class 2']))\n"
      ]
    },
    {
      "cell_type": "markdown",
      "metadata": {
        "id": "_LRQjTvOTvCb"
      },
      "source": [
        "### Random Forest"
      ]
    },
    {
      "cell_type": "code",
      "execution_count": null,
      "metadata": {
        "colab": {
          "base_uri": "https://localhost:8080/"
        },
        "id": "VEH3O-b9X6xj",
        "outputId": "3875c8a7-c1ad-475e-bbd2-d8b423e1896a"
      },
      "outputs": [
        {
          "output_type": "stream",
          "name": "stdout",
          "text": [
            "\n",
            "Training Random Forest Classifier...\n",
            "Random Forest Classifier Classification Report for Train :\n",
            "               precision    recall  f1-score   support\n",
            "\n",
            "     Class 0       1.00      1.00      1.00   1381760\n",
            "     Class 1       1.00      1.00      1.00    696150\n",
            "     Class 2       1.00      1.00      1.00   1126270\n",
            "\n",
            "    accuracy                           1.00   3204180\n",
            "   macro avg       1.00      1.00      1.00   3204180\n",
            "weighted avg       1.00      1.00      1.00   3204180\n",
            "\n",
            "-----------------------------------------------------------------------\n",
            "Random Forest Classifier Classification Report for Test :\n",
            "               precision    recall  f1-score   support\n",
            "\n",
            "     Class 0       0.97      0.99      0.98    592183\n",
            "     Class 1       0.98      0.96      0.97    298350\n",
            "     Class 2       0.99      0.97      0.98    482687\n",
            "\n",
            "    accuracy                           0.98   1373220\n",
            "   macro avg       0.98      0.97      0.98   1373220\n",
            "weighted avg       0.98      0.98      0.98   1373220\n",
            "\n"
          ]
        }
      ],
      "source": [
        "from sklearn.ensemble import RandomForestClassifier\n",
        "\n",
        "rf = RandomForestClassifier(class_weight='balanced', random_state=42)\n",
        "\n",
        "print(\"\\nTraining Random Forest Classifier...\")\n",
        "rf.fit(X_train, y_train)\n",
        "\n",
        "y_pred_train_rf = rf.predict(X_train)\n",
        "y_pred_test_rf = rf.predict(X_test)\n",
        "\n",
        "print(\"Random Forest Classifier Classification Report for Train :\\n\", classification_report(y_train, y_pred_train_rf, target_names=['Class 0', 'Class 1', 'Class 2']))\n",
        "print(\"-----------------------------------------------------------------------\")\n",
        "print(\"Random Forest Classifier Classification Report for Test :\\n\", classification_report(y_test, y_pred_test_rf, target_names=['Class 0', 'Class 1', 'Class 2']))\n"
      ]
    },
    {
      "cell_type": "markdown",
      "metadata": {
        "id": "r5EFtVZPYdXO"
      },
      "source": [
        "### Lightgbm"
      ]
    },
    {
      "cell_type": "code",
      "execution_count": null,
      "metadata": {
        "colab": {
          "base_uri": "https://localhost:8080/"
        },
        "id": "bccJBWmcYi5y",
        "outputId": "87bba3cf-647f-4258-a421-27e1c6a7ee8c"
      },
      "outputs": [
        {
          "output_type": "stream",
          "name": "stdout",
          "text": [
            "\n",
            "Training LightGBM Classifier...\n",
            "[LightGBM] [Info] Auto-choosing col-wise multi-threading, the overhead of testing was 1.171963 seconds.\n",
            "You can set `force_col_wise=true` to remove the overhead.\n",
            "[LightGBM] [Info] Total Bins 3642\n",
            "[LightGBM] [Info] Number of data points in the train set: 3204180, number of used features: 25\n",
            "[LightGBM] [Info] Start training from score -0.841098\n",
            "[LightGBM] [Info] Start training from score -1.526646\n",
            "[LightGBM] [Info] Start training from score -1.045545\n",
            "LightGBM Classifier Classification Report for Train :\n",
            "               precision    recall  f1-score   support\n",
            "\n",
            "     Class 0       0.86      0.96      0.91   1381760\n",
            "     Class 1       0.93      0.80      0.86    696150\n",
            "     Class 2       0.94      0.89      0.91   1126270\n",
            "\n",
            "    accuracy                           0.90   3204180\n",
            "   macro avg       0.91      0.88      0.89   3204180\n",
            "weighted avg       0.90      0.90      0.90   3204180\n",
            "\n",
            "-----------------------------------------------------------------------\n",
            "LightGBM Classifier Classification Report for Test :\n",
            "               precision    recall  f1-score   support\n",
            "\n",
            "     Class 0       0.86      0.96      0.91    592183\n",
            "     Class 1       0.93      0.80      0.86    298350\n",
            "     Class 2       0.94      0.89      0.91    482687\n",
            "\n",
            "    accuracy                           0.90   1373220\n",
            "   macro avg       0.91      0.88      0.89   1373220\n",
            "weighted avg       0.90      0.90      0.90   1373220\n",
            "\n"
          ]
        }
      ],
      "source": [
        "import lightgbm as lgb\n",
        "\n",
        "# LightGBM Classifier\n",
        "lgbm = lgb.LGBMClassifier(random_state=42)\n",
        "\n",
        "print(\"\\nTraining LightGBM Classifier...\")\n",
        "lgbm.fit(X_train, y_train)\n",
        "\n",
        "y_pred_train_lgbm = lgbm.predict(X_train)\n",
        "y_pred_test_lgbm = lgbm.predict(X_test)\n",
        "\n",
        "print(\"LightGBM Classifier Classification Report for Train :\\n\", classification_report(y_train, y_pred_train_lgbm, target_names=['Class 0', 'Class 1', 'Class 2']))\n",
        "print(\"-----------------------------------------------------------------------\")\n",
        "print(\"LightGBM Classifier Classification Report for Test :\\n\", classification_report(y_test, y_pred_test_lgbm, target_names=['Class 0', 'Class 1', 'Class 2']))\n"
      ]
    },
    {
      "cell_type": "markdown",
      "metadata": {
        "id": "hb-iAvI8YW-1"
      },
      "source": [
        "### XgBoost"
      ]
    },
    {
      "cell_type": "code",
      "execution_count": null,
      "metadata": {
        "colab": {
          "base_uri": "https://localhost:8080/"
        },
        "id": "-nDlBNOjX6u8",
        "outputId": "b1a08e3b-6cbd-4945-b2b8-ae80a53defd9"
      },
      "outputs": [
        {
          "output_type": "stream",
          "name": "stdout",
          "text": [
            "\n",
            "Training XGBoost Classifier...\n",
            "XGBoost Classifier Classification Report for Train :\n",
            "               precision    recall  f1-score   support\n",
            "\n",
            "     Class 0       0.89      0.96      0.92   1381760\n",
            "     Class 1       0.93      0.85      0.89    696150\n",
            "     Class 2       0.95      0.91      0.93   1126270\n",
            "\n",
            "    accuracy                           0.92   3204180\n",
            "   macro avg       0.92      0.91      0.91   3204180\n",
            "weighted avg       0.92      0.92      0.92   3204180\n",
            "\n",
            "-----------------------------------------------------------------------\n",
            "XGBoost Classifier Classification Report for Test :\n",
            "               precision    recall  f1-score   support\n",
            "\n",
            "     Class 0       0.89      0.96      0.92    592183\n",
            "     Class 1       0.93      0.85      0.89    298350\n",
            "     Class 2       0.95      0.91      0.93    482687\n",
            "\n",
            "    accuracy                           0.92   1373220\n",
            "   macro avg       0.92      0.91      0.91   1373220\n",
            "weighted avg       0.92      0.92      0.92   1373220\n",
            "\n"
          ]
        }
      ],
      "source": [
        "# prompt: i want for xgboost too\n",
        "\n",
        "import xgboost as xgb\n",
        "\n",
        "# XGBoost Classifier\n",
        "xg = xgb.XGBClassifier(random_state=42, use_label_encoder=False, eval_metric='mlogloss')\n",
        "\n",
        "print(\"\\nTraining XGBoost Classifier...\")\n",
        "xg.fit(X_train, y_train)\n",
        "\n",
        "y_pred_train_xg = xg.predict(X_train)\n",
        "y_pred_test_xg = xg.predict(X_test)\n",
        "\n",
        "print(\"XGBoost Classifier Classification Report for Train :\\n\", classification_report(y_train, y_pred_train_xg, target_names=['Class 0', 'Class 1', 'Class 2']))\n",
        "print(\"-----------------------------------------------------------------------\")\n",
        "print(\"XGBoost Classifier Classification Report for Test :\\n\", classification_report(y_test, y_pred_test_xg, target_names=['Class 0', 'Class 1', 'Class 2']))\n"
      ]
    },
    {
      "cell_type": "markdown",
      "metadata": {
        "id": "9fufd9L1clvQ"
      },
      "source": [
        "## Choosing best model\n",
        "1. Logistic Regression\n",
        "Training Accuracy: 51%, Test Accuracy: 51% — Poor performance with low precision and recall for Class 1, and weaker performance overall.\n",
        "2. Decision Tree Classifier\n",
        "Training Accuracy: 100%, Test Accuracy: 99% — Excellent performance but shows signs of overfitting, with perfect training accuracy and slight drop in test accuracy.\n",
        "3. Random Forest Classifier\n",
        "Training Accuracy: 100%, Test Accuracy: 98% — Similar to Decision Tree, strong performance but potentially overfitting due to perfect training scores.\n",
        "4. LightGBM Classifier\n",
        "Training Accuracy: 90%, Test Accuracy: 90% — Balanced performance with stable test results, no signs of overfitting.\n",
        "5. XGBoost Classifier\n",
        "Training Accuracy: 92%, Test Accuracy: 92% — High performance with good generalization and no overfitting.\n",
        "\n",
        "\n",
        "## Conclusion\n",
        "* Best Performing Models: LightGBM and XGBoost offer the best generalization and stable performance.\n",
        "* Overfitting Concern: Decision Tree and Random Forest show overfitting due to perfect training scores but good test results.\n",
        "* Logistic Regression: Should be reconsidered as it performs poorly on both training and test sets.\n",
        "\n",
        "\n"
      ]
    },
    {
      "cell_type": "markdown",
      "metadata": {
        "id": "Cp1sMPb2ckly"
      },
      "source": [
        "## Taking 20% of X_train, y_train\n"
      ]
    },
    {
      "cell_type": "code",
      "execution_count": null,
      "metadata": {
        "colab": {
          "base_uri": "https://localhost:8080/"
        },
        "id": "CcSvU8HMcixv",
        "outputId": "16ea9600-0b84-41c1-afaf-5eed24e22a2b"
      },
      "outputs": [
        {
          "output_type": "stream",
          "name": "stdout",
          "text": [
            "Original Training Data Size: (3204180, 25)\n",
            "Sampled Training Data Size: (640836, 25)\n"
          ]
        }
      ],
      "source": [
        "X_train_sample = X_train.sample(frac=0.2, random_state=42)\n",
        "y_train_sample = y_train.loc[X_train_sample.index]\n",
        "\n",
        "print(\"Original Training Data Size:\", X_train.shape)\n",
        "print(\"Sampled Training Data Size:\", X_train_sample.shape)"
      ]
    },
    {
      "cell_type": "markdown",
      "metadata": {
        "id": "GACS5sPUcctC"
      },
      "source": [
        "## SMOTE TECHNIQUE"
      ]
    },
    {
      "cell_type": "code",
      "execution_count": null,
      "metadata": {
        "id": "Uxg9rwWacgvt"
      },
      "outputs": [],
      "source": [
        "# Applying SMOTE to the training data\n",
        "from imblearn.over_sampling import SMOTE\n",
        "smote = SMOTE(random_state=42)\n",
        "X_train_smote, y_train_smote = smote.fit_resample(X_train_sample, y_train_sample)"
      ]
    },
    {
      "cell_type": "code",
      "execution_count": null,
      "metadata": {
        "colab": {
          "base_uri": "https://localhost:8080/"
        },
        "id": "8fLg82u4cgtM",
        "outputId": "fc67b59e-7e8b-4ee9-d370-7eac5d25287f"
      },
      "outputs": [
        {
          "output_type": "stream",
          "name": "stdout",
          "text": [
            "Original class distribution:\n",
            " IncidentGrade\n",
            "0    276464\n",
            "2    225252\n",
            "1    139120\n",
            "Name: count, dtype: int64\n",
            "After SMOTE class distribution:\n",
            " IncidentGrade\n",
            "2    276464\n",
            "0    276464\n",
            "1    276464\n",
            "Name: count, dtype: int64\n"
          ]
        }
      ],
      "source": [
        "# Checking the new class distribution\n",
        "print(\"Original class distribution:\\n\", y_train_sample.value_counts())\n",
        "print(\"After SMOTE class distribution:\\n\", y_train_smote.value_counts())"
      ]
    },
    {
      "cell_type": "markdown",
      "metadata": {
        "id": "9BrZ3VRvdpfe"
      },
      "source": [
        "### Fitting the Smote to Xgboost Algorithm"
      ]
    },
    {
      "cell_type": "code",
      "execution_count": null,
      "metadata": {
        "colab": {
          "base_uri": "https://localhost:8080/"
        },
        "id": "9wzdoMv_cgqU",
        "outputId": "9854c841-8cef-417d-bd6b-3a4b37e40415"
      },
      "outputs": [
        {
          "output_type": "stream",
          "name": "stdout",
          "text": [
            "Validation Set Classification Report (After SMOTE):\n",
            "              precision    recall  f1-score   support\n",
            "\n",
            "     Class 0       0.92      0.92      0.92    592183\n",
            "     Class 1       0.83      0.90      0.86    298350\n",
            "     Class 2       0.95      0.90      0.92    482687\n",
            "\n",
            "    accuracy                           0.91   1373220\n",
            "   macro avg       0.90      0.90      0.90   1373220\n",
            "weighted avg       0.91      0.91      0.91   1373220\n",
            "\n"
          ]
        }
      ],
      "source": [
        "# Training the XGBoost model\n",
        "from xgboost import XGBClassifier\n",
        "\n",
        "xgb = XGBClassifier(random_state=42,tree_method='hist',device='cuda')\n",
        "xgb.fit(X_train_smote, y_train_smote)\n",
        "\n",
        "# Prediction on the validation set\n",
        "y_test_smote_pred = xgb.predict(X_test)\n",
        "\n",
        "# Evaluate performance\n",
        "print(\"Validation Set Classification Report (After SMOTE):\")\n",
        "print(classification_report(y_test, y_test_smote_pred, target_names=['Class 0', 'Class 1', 'Class 2']))"
      ]
    },
    {
      "cell_type": "markdown",
      "metadata": {
        "id": "W1wI5Xvzqqf2"
      },
      "source": [
        "## Feature Importance"
      ]
    },
    {
      "cell_type": "code",
      "execution_count": null,
      "metadata": {
        "colab": {
          "base_uri": "https://localhost:8080/",
          "height": 833
        },
        "id": "r8VK6hXfZFKO",
        "outputId": "a88799ce-2b53-49e3-a58e-2c167d12642d"
      },
      "outputs": [
        {
          "output_type": "execute_result",
          "data": {
            "text/plain": [
              "                Column      Score\n",
              "0                OrgId  12.725735\n",
              "11          DeviceName   8.152390\n",
              "1           IncidentId   7.918359\n",
              "4           AlertTitle   7.769856\n",
              "7         EvidenceRole   7.709688\n",
              "3           DetectorId   6.139986\n",
              "5             Category   6.093300\n",
              "2              AlertId   5.951309\n",
              "12    NetworkMessageId   5.537221\n",
              "20                City   4.686828\n",
              "13         RegistryKey   4.155569\n",
              "17            FileName   3.788089\n",
              "8            IpAddress   3.169278\n",
              "6           EntityType   2.916119\n",
              "19           OSVersion   2.409029\n",
              "10         AccountName   2.251365\n",
              "21                 Day   2.205898\n",
              "24                Time   1.639867\n",
              "9                  Url   1.275554\n",
              "23                Hour   1.203923\n",
              "15     ApplicationName   1.030846\n",
              "18      ResourceIdName   0.449998\n",
              "22                Year   0.363405\n",
              "16  OAuthApplicationId   0.340856\n",
              "14   RegistryValueData   0.115528"
            ],
            "text/html": [
              "\n",
              "  <div id=\"df-729b478b-cb3c-4024-9cad-dc4486416b2f\" class=\"colab-df-container\">\n",
              "    <div>\n",
              "<style scoped>\n",
              "    .dataframe tbody tr th:only-of-type {\n",
              "        vertical-align: middle;\n",
              "    }\n",
              "\n",
              "    .dataframe tbody tr th {\n",
              "        vertical-align: top;\n",
              "    }\n",
              "\n",
              "    .dataframe thead th {\n",
              "        text-align: right;\n",
              "    }\n",
              "</style>\n",
              "<table border=\"1\" class=\"dataframe\">\n",
              "  <thead>\n",
              "    <tr style=\"text-align: right;\">\n",
              "      <th></th>\n",
              "      <th>Column</th>\n",
              "      <th>Score</th>\n",
              "    </tr>\n",
              "  </thead>\n",
              "  <tbody>\n",
              "    <tr>\n",
              "      <th>0</th>\n",
              "      <td>OrgId</td>\n",
              "      <td>12.725735</td>\n",
              "    </tr>\n",
              "    <tr>\n",
              "      <th>11</th>\n",
              "      <td>DeviceName</td>\n",
              "      <td>8.152390</td>\n",
              "    </tr>\n",
              "    <tr>\n",
              "      <th>1</th>\n",
              "      <td>IncidentId</td>\n",
              "      <td>7.918359</td>\n",
              "    </tr>\n",
              "    <tr>\n",
              "      <th>4</th>\n",
              "      <td>AlertTitle</td>\n",
              "      <td>7.769856</td>\n",
              "    </tr>\n",
              "    <tr>\n",
              "      <th>7</th>\n",
              "      <td>EvidenceRole</td>\n",
              "      <td>7.709688</td>\n",
              "    </tr>\n",
              "    <tr>\n",
              "      <th>3</th>\n",
              "      <td>DetectorId</td>\n",
              "      <td>6.139986</td>\n",
              "    </tr>\n",
              "    <tr>\n",
              "      <th>5</th>\n",
              "      <td>Category</td>\n",
              "      <td>6.093300</td>\n",
              "    </tr>\n",
              "    <tr>\n",
              "      <th>2</th>\n",
              "      <td>AlertId</td>\n",
              "      <td>5.951309</td>\n",
              "    </tr>\n",
              "    <tr>\n",
              "      <th>12</th>\n",
              "      <td>NetworkMessageId</td>\n",
              "      <td>5.537221</td>\n",
              "    </tr>\n",
              "    <tr>\n",
              "      <th>20</th>\n",
              "      <td>City</td>\n",
              "      <td>4.686828</td>\n",
              "    </tr>\n",
              "    <tr>\n",
              "      <th>13</th>\n",
              "      <td>RegistryKey</td>\n",
              "      <td>4.155569</td>\n",
              "    </tr>\n",
              "    <tr>\n",
              "      <th>17</th>\n",
              "      <td>FileName</td>\n",
              "      <td>3.788089</td>\n",
              "    </tr>\n",
              "    <tr>\n",
              "      <th>8</th>\n",
              "      <td>IpAddress</td>\n",
              "      <td>3.169278</td>\n",
              "    </tr>\n",
              "    <tr>\n",
              "      <th>6</th>\n",
              "      <td>EntityType</td>\n",
              "      <td>2.916119</td>\n",
              "    </tr>\n",
              "    <tr>\n",
              "      <th>19</th>\n",
              "      <td>OSVersion</td>\n",
              "      <td>2.409029</td>\n",
              "    </tr>\n",
              "    <tr>\n",
              "      <th>10</th>\n",
              "      <td>AccountName</td>\n",
              "      <td>2.251365</td>\n",
              "    </tr>\n",
              "    <tr>\n",
              "      <th>21</th>\n",
              "      <td>Day</td>\n",
              "      <td>2.205898</td>\n",
              "    </tr>\n",
              "    <tr>\n",
              "      <th>24</th>\n",
              "      <td>Time</td>\n",
              "      <td>1.639867</td>\n",
              "    </tr>\n",
              "    <tr>\n",
              "      <th>9</th>\n",
              "      <td>Url</td>\n",
              "      <td>1.275554</td>\n",
              "    </tr>\n",
              "    <tr>\n",
              "      <th>23</th>\n",
              "      <td>Hour</td>\n",
              "      <td>1.203923</td>\n",
              "    </tr>\n",
              "    <tr>\n",
              "      <th>15</th>\n",
              "      <td>ApplicationName</td>\n",
              "      <td>1.030846</td>\n",
              "    </tr>\n",
              "    <tr>\n",
              "      <th>18</th>\n",
              "      <td>ResourceIdName</td>\n",
              "      <td>0.449998</td>\n",
              "    </tr>\n",
              "    <tr>\n",
              "      <th>22</th>\n",
              "      <td>Year</td>\n",
              "      <td>0.363405</td>\n",
              "    </tr>\n",
              "    <tr>\n",
              "      <th>16</th>\n",
              "      <td>OAuthApplicationId</td>\n",
              "      <td>0.340856</td>\n",
              "    </tr>\n",
              "    <tr>\n",
              "      <th>14</th>\n",
              "      <td>RegistryValueData</td>\n",
              "      <td>0.115528</td>\n",
              "    </tr>\n",
              "  </tbody>\n",
              "</table>\n",
              "</div>\n",
              "    <div class=\"colab-df-buttons\">\n",
              "\n",
              "  <div class=\"colab-df-container\">\n",
              "    <button class=\"colab-df-convert\" onclick=\"convertToInteractive('df-729b478b-cb3c-4024-9cad-dc4486416b2f')\"\n",
              "            title=\"Convert this dataframe to an interactive table.\"\n",
              "            style=\"display:none;\">\n",
              "\n",
              "  <svg xmlns=\"http://www.w3.org/2000/svg\" height=\"24px\" viewBox=\"0 -960 960 960\">\n",
              "    <path d=\"M120-120v-720h720v720H120Zm60-500h600v-160H180v160Zm220 220h160v-160H400v160Zm0 220h160v-160H400v160ZM180-400h160v-160H180v160Zm440 0h160v-160H620v160ZM180-180h160v-160H180v160Zm440 0h160v-160H620v160Z\"/>\n",
              "  </svg>\n",
              "    </button>\n",
              "\n",
              "  <style>\n",
              "    .colab-df-container {\n",
              "      display:flex;\n",
              "      gap: 12px;\n",
              "    }\n",
              "\n",
              "    .colab-df-convert {\n",
              "      background-color: #E8F0FE;\n",
              "      border: none;\n",
              "      border-radius: 50%;\n",
              "      cursor: pointer;\n",
              "      display: none;\n",
              "      fill: #1967D2;\n",
              "      height: 32px;\n",
              "      padding: 0 0 0 0;\n",
              "      width: 32px;\n",
              "    }\n",
              "\n",
              "    .colab-df-convert:hover {\n",
              "      background-color: #E2EBFA;\n",
              "      box-shadow: 0px 1px 2px rgba(60, 64, 67, 0.3), 0px 1px 3px 1px rgba(60, 64, 67, 0.15);\n",
              "      fill: #174EA6;\n",
              "    }\n",
              "\n",
              "    .colab-df-buttons div {\n",
              "      margin-bottom: 4px;\n",
              "    }\n",
              "\n",
              "    [theme=dark] .colab-df-convert {\n",
              "      background-color: #3B4455;\n",
              "      fill: #D2E3FC;\n",
              "    }\n",
              "\n",
              "    [theme=dark] .colab-df-convert:hover {\n",
              "      background-color: #434B5C;\n",
              "      box-shadow: 0px 1px 3px 1px rgba(0, 0, 0, 0.15);\n",
              "      filter: drop-shadow(0px 1px 2px rgba(0, 0, 0, 0.3));\n",
              "      fill: #FFFFFF;\n",
              "    }\n",
              "  </style>\n",
              "\n",
              "    <script>\n",
              "      const buttonEl =\n",
              "        document.querySelector('#df-729b478b-cb3c-4024-9cad-dc4486416b2f button.colab-df-convert');\n",
              "      buttonEl.style.display =\n",
              "        google.colab.kernel.accessAllowed ? 'block' : 'none';\n",
              "\n",
              "      async function convertToInteractive(key) {\n",
              "        const element = document.querySelector('#df-729b478b-cb3c-4024-9cad-dc4486416b2f');\n",
              "        const dataTable =\n",
              "          await google.colab.kernel.invokeFunction('convertToInteractive',\n",
              "                                                    [key], {});\n",
              "        if (!dataTable) return;\n",
              "\n",
              "        const docLinkHtml = 'Like what you see? Visit the ' +\n",
              "          '<a target=\"_blank\" href=https://colab.research.google.com/notebooks/data_table.ipynb>data table notebook</a>'\n",
              "          + ' to learn more about interactive tables.';\n",
              "        element.innerHTML = '';\n",
              "        dataTable['output_type'] = 'display_data';\n",
              "        await google.colab.output.renderOutput(dataTable, element);\n",
              "        const docLink = document.createElement('div');\n",
              "        docLink.innerHTML = docLinkHtml;\n",
              "        element.appendChild(docLink);\n",
              "      }\n",
              "    </script>\n",
              "  </div>\n",
              "\n",
              "\n",
              "<div id=\"df-48c94447-e64d-4658-9c0b-b92890f3c34c\">\n",
              "  <button class=\"colab-df-quickchart\" onclick=\"quickchart('df-48c94447-e64d-4658-9c0b-b92890f3c34c')\"\n",
              "            title=\"Suggest charts\"\n",
              "            style=\"display:none;\">\n",
              "\n",
              "<svg xmlns=\"http://www.w3.org/2000/svg\" height=\"24px\"viewBox=\"0 0 24 24\"\n",
              "     width=\"24px\">\n",
              "    <g>\n",
              "        <path d=\"M19 3H5c-1.1 0-2 .9-2 2v14c0 1.1.9 2 2 2h14c1.1 0 2-.9 2-2V5c0-1.1-.9-2-2-2zM9 17H7v-7h2v7zm4 0h-2V7h2v10zm4 0h-2v-4h2v4z\"/>\n",
              "    </g>\n",
              "</svg>\n",
              "  </button>\n",
              "\n",
              "<style>\n",
              "  .colab-df-quickchart {\n",
              "      --bg-color: #E8F0FE;\n",
              "      --fill-color: #1967D2;\n",
              "      --hover-bg-color: #E2EBFA;\n",
              "      --hover-fill-color: #174EA6;\n",
              "      --disabled-fill-color: #AAA;\n",
              "      --disabled-bg-color: #DDD;\n",
              "  }\n",
              "\n",
              "  [theme=dark] .colab-df-quickchart {\n",
              "      --bg-color: #3B4455;\n",
              "      --fill-color: #D2E3FC;\n",
              "      --hover-bg-color: #434B5C;\n",
              "      --hover-fill-color: #FFFFFF;\n",
              "      --disabled-bg-color: #3B4455;\n",
              "      --disabled-fill-color: #666;\n",
              "  }\n",
              "\n",
              "  .colab-df-quickchart {\n",
              "    background-color: var(--bg-color);\n",
              "    border: none;\n",
              "    border-radius: 50%;\n",
              "    cursor: pointer;\n",
              "    display: none;\n",
              "    fill: var(--fill-color);\n",
              "    height: 32px;\n",
              "    padding: 0;\n",
              "    width: 32px;\n",
              "  }\n",
              "\n",
              "  .colab-df-quickchart:hover {\n",
              "    background-color: var(--hover-bg-color);\n",
              "    box-shadow: 0 1px 2px rgba(60, 64, 67, 0.3), 0 1px 3px 1px rgba(60, 64, 67, 0.15);\n",
              "    fill: var(--button-hover-fill-color);\n",
              "  }\n",
              "\n",
              "  .colab-df-quickchart-complete:disabled,\n",
              "  .colab-df-quickchart-complete:disabled:hover {\n",
              "    background-color: var(--disabled-bg-color);\n",
              "    fill: var(--disabled-fill-color);\n",
              "    box-shadow: none;\n",
              "  }\n",
              "\n",
              "  .colab-df-spinner {\n",
              "    border: 2px solid var(--fill-color);\n",
              "    border-color: transparent;\n",
              "    border-bottom-color: var(--fill-color);\n",
              "    animation:\n",
              "      spin 1s steps(1) infinite;\n",
              "  }\n",
              "\n",
              "  @keyframes spin {\n",
              "    0% {\n",
              "      border-color: transparent;\n",
              "      border-bottom-color: var(--fill-color);\n",
              "      border-left-color: var(--fill-color);\n",
              "    }\n",
              "    20% {\n",
              "      border-color: transparent;\n",
              "      border-left-color: var(--fill-color);\n",
              "      border-top-color: var(--fill-color);\n",
              "    }\n",
              "    30% {\n",
              "      border-color: transparent;\n",
              "      border-left-color: var(--fill-color);\n",
              "      border-top-color: var(--fill-color);\n",
              "      border-right-color: var(--fill-color);\n",
              "    }\n",
              "    40% {\n",
              "      border-color: transparent;\n",
              "      border-right-color: var(--fill-color);\n",
              "      border-top-color: var(--fill-color);\n",
              "    }\n",
              "    60% {\n",
              "      border-color: transparent;\n",
              "      border-right-color: var(--fill-color);\n",
              "    }\n",
              "    80% {\n",
              "      border-color: transparent;\n",
              "      border-right-color: var(--fill-color);\n",
              "      border-bottom-color: var(--fill-color);\n",
              "    }\n",
              "    90% {\n",
              "      border-color: transparent;\n",
              "      border-bottom-color: var(--fill-color);\n",
              "    }\n",
              "  }\n",
              "</style>\n",
              "\n",
              "  <script>\n",
              "    async function quickchart(key) {\n",
              "      const quickchartButtonEl =\n",
              "        document.querySelector('#' + key + ' button');\n",
              "      quickchartButtonEl.disabled = true;  // To prevent multiple clicks.\n",
              "      quickchartButtonEl.classList.add('colab-df-spinner');\n",
              "      try {\n",
              "        const charts = await google.colab.kernel.invokeFunction(\n",
              "            'suggestCharts', [key], {});\n",
              "      } catch (error) {\n",
              "        console.error('Error during call to suggestCharts:', error);\n",
              "      }\n",
              "      quickchartButtonEl.classList.remove('colab-df-spinner');\n",
              "      quickchartButtonEl.classList.add('colab-df-quickchart-complete');\n",
              "    }\n",
              "    (() => {\n",
              "      let quickchartButtonEl =\n",
              "        document.querySelector('#df-48c94447-e64d-4658-9c0b-b92890f3c34c button');\n",
              "      quickchartButtonEl.style.display =\n",
              "        google.colab.kernel.accessAllowed ? 'block' : 'none';\n",
              "    })();\n",
              "  </script>\n",
              "</div>\n",
              "\n",
              "  <div id=\"id_3df5fead-0521-45b1-b9ff-29a10c1151a0\">\n",
              "    <style>\n",
              "      .colab-df-generate {\n",
              "        background-color: #E8F0FE;\n",
              "        border: none;\n",
              "        border-radius: 50%;\n",
              "        cursor: pointer;\n",
              "        display: none;\n",
              "        fill: #1967D2;\n",
              "        height: 32px;\n",
              "        padding: 0 0 0 0;\n",
              "        width: 32px;\n",
              "      }\n",
              "\n",
              "      .colab-df-generate:hover {\n",
              "        background-color: #E2EBFA;\n",
              "        box-shadow: 0px 1px 2px rgba(60, 64, 67, 0.3), 0px 1px 3px 1px rgba(60, 64, 67, 0.15);\n",
              "        fill: #174EA6;\n",
              "      }\n",
              "\n",
              "      [theme=dark] .colab-df-generate {\n",
              "        background-color: #3B4455;\n",
              "        fill: #D2E3FC;\n",
              "      }\n",
              "\n",
              "      [theme=dark] .colab-df-generate:hover {\n",
              "        background-color: #434B5C;\n",
              "        box-shadow: 0px 1px 3px 1px rgba(0, 0, 0, 0.15);\n",
              "        filter: drop-shadow(0px 1px 2px rgba(0, 0, 0, 0.3));\n",
              "        fill: #FFFFFF;\n",
              "      }\n",
              "    </style>\n",
              "    <button class=\"colab-df-generate\" onclick=\"generateWithVariable('feature_importance')\"\n",
              "            title=\"Generate code using this dataframe.\"\n",
              "            style=\"display:none;\">\n",
              "\n",
              "  <svg xmlns=\"http://www.w3.org/2000/svg\" height=\"24px\"viewBox=\"0 0 24 24\"\n",
              "       width=\"24px\">\n",
              "    <path d=\"M7,19H8.4L18.45,9,17,7.55,7,17.6ZM5,21V16.75L18.45,3.32a2,2,0,0,1,2.83,0l1.4,1.43a1.91,1.91,0,0,1,.58,1.4,1.91,1.91,0,0,1-.58,1.4L9.25,21ZM18.45,9,17,7.55Zm-12,3A5.31,5.31,0,0,0,4.9,8.1,5.31,5.31,0,0,0,1,6.5,5.31,5.31,0,0,0,4.9,4.9,5.31,5.31,0,0,0,6.5,1,5.31,5.31,0,0,0,8.1,4.9,5.31,5.31,0,0,0,12,6.5,5.46,5.46,0,0,0,6.5,12Z\"/>\n",
              "  </svg>\n",
              "    </button>\n",
              "    <script>\n",
              "      (() => {\n",
              "      const buttonEl =\n",
              "        document.querySelector('#id_3df5fead-0521-45b1-b9ff-29a10c1151a0 button.colab-df-generate');\n",
              "      buttonEl.style.display =\n",
              "        google.colab.kernel.accessAllowed ? 'block' : 'none';\n",
              "\n",
              "      buttonEl.onclick = () => {\n",
              "        google.colab.notebook.generateWithVariable('feature_importance');\n",
              "      }\n",
              "      })();\n",
              "    </script>\n",
              "  </div>\n",
              "\n",
              "    </div>\n",
              "  </div>\n"
            ],
            "application/vnd.google.colaboratory.intrinsic+json": {
              "type": "dataframe",
              "variable_name": "feature_importance",
              "summary": "{\n  \"name\": \"feature_importance\",\n  \"rows\": 25,\n  \"fields\": [\n    {\n      \"column\": \"Column\",\n      \"properties\": {\n        \"dtype\": \"string\",\n        \"num_unique_values\": 25,\n        \"samples\": [\n          \"NetworkMessageId\",\n          \"Day\",\n          \"OrgId\"\n        ],\n        \"semantic_type\": \"\",\n        \"description\": \"\"\n      }\n    },\n    {\n      \"column\": \"Score\",\n      \"properties\": {\n        \"dtype\": \"float32\",\n        \"num_unique_values\": 25,\n        \"samples\": [\n          5.537221431732178,\n          2.205897569656372,\n          12.72573471069336\n        ],\n        \"semantic_type\": \"\",\n        \"description\": \"\"\n      }\n    }\n  ]\n}"
            }
          },
          "metadata": {},
          "execution_count": 22
        }
      ],
      "source": [
        "feature_importance = pd.DataFrame({\n",
        "    \"Column\": X_train_smote.columns,\n",
        "    \"Score\": xgb.feature_importances_ *100\n",
        "}).sort_values('Score',ascending=False)\n",
        "feature_importance"
      ]
    },
    {
      "cell_type": "code",
      "execution_count": null,
      "metadata": {
        "id": "meilSQbPudin"
      },
      "outputs": [],
      "source": [
        "# Taking top features based on feature importance\n",
        "top_features = ['OrgId', 'IncidentId', 'AlertTitle', 'DetectorId',\n",
        "                   'AlertId', 'Category', 'Hour', 'Time', 'Day', 'EntityType', 'City']"
      ]
    },
    {
      "cell_type": "code",
      "execution_count": null,
      "metadata": {
        "id": "cXo_XwzludHm"
      },
      "outputs": [],
      "source": [
        "X_train_features = X_train_smote[top_features]\n",
        "X_test_features = X_test[top_features]"
      ]
    },
    {
      "cell_type": "code",
      "execution_count": null,
      "metadata": {
        "colab": {
          "base_uri": "https://localhost:8080/"
        },
        "id": "TpLQorwcxh2z",
        "outputId": "1c25395d-0e9c-4a86-8c75-f22a39740996"
      },
      "outputs": [
        {
          "output_type": "stream",
          "name": "stdout",
          "text": [
            "Shape of training set with top features: (829392, 11)\n",
            "Shape of validation set with top features: (1373220, 11)\n"
          ]
        }
      ],
      "source": [
        "print(\"Shape of training set with top features:\", X_train_features.shape)\n",
        "print(\"Shape of validation set with top features:\", X_test_features.shape)"
      ]
    },
    {
      "cell_type": "markdown",
      "metadata": {
        "id": "XY1Ahixrx23f"
      },
      "source": [
        "## Training XGB with top_features"
      ]
    },
    {
      "cell_type": "code",
      "execution_count": null,
      "metadata": {
        "colab": {
          "base_uri": "https://localhost:8080/"
        },
        "id": "KRe2l1i2xo9D",
        "outputId": "ba4161db-f804-4204-82d6-3de607dff225"
      },
      "outputs": [
        {
          "output_type": "stream",
          "name": "stdout",
          "text": [
            "Validation Set Classification Report (After SMOTE):\n",
            "              precision    recall  f1-score   support\n",
            "\n",
            "     Class 0       0.92      0.92      0.92    592183\n",
            "     Class 1       0.84      0.90      0.87    298350\n",
            "     Class 2       0.95      0.90      0.93    482687\n",
            "\n",
            "    accuracy                           0.91   1373220\n",
            "   macro avg       0.90      0.91      0.90   1373220\n",
            "weighted avg       0.91      0.91      0.91   1373220\n",
            "\n"
          ]
        }
      ],
      "source": [
        "xgb_top_features = XGBClassifier(random_state=42,tree_method='hist',device='cuda')\n",
        "xgb_top_features.fit(X_train_features, y_train_smote)\n",
        "\n",
        "y_test_top_features_pred = xgb_top_features.predict(X_test_features)\n",
        "\n",
        "print(\"Validation Set Classification Report (After SMOTE):\")\n",
        "print(classification_report(y_test, y_test_top_features_pred, target_names=['Class 0', 'Class 1', 'Class 2']))"
      ]
    },
    {
      "cell_type": "markdown",
      "metadata": {
        "id": "SY3aCUkoBknO"
      },
      "source": [
        "## HyperParameter Tuning"
      ]
    },
    {
      "cell_type": "code",
      "execution_count": null,
      "metadata": {
        "colab": {
          "base_uri": "https://localhost:8080/"
        },
        "id": "2ujjhHfyzs3L",
        "outputId": "24f0c50d-a18b-442f-daef-22fffd351638"
      },
      "outputs": [
        {
          "output_type": "stream",
          "name": "stdout",
          "text": [
            "Fitting 3 folds for each of 27 candidates, totalling 81 fits\n",
            "Best Hyperparameters: {'learning_rate': 0.2, 'max_depth': 7, 'n_estimators': 300}\n",
            "Best Score: 0.9274068016594391\n",
            "              precision    recall  f1-score   support\n",
            "\n",
            "           0       0.95      0.95      0.95    592183\n",
            "           1       0.90      0.93      0.91    298350\n",
            "           2       0.96      0.94      0.95    482687\n",
            "\n",
            "    accuracy                           0.94   1373220\n",
            "   macro avg       0.94      0.94      0.94   1373220\n",
            "weighted avg       0.94      0.94      0.94   1373220\n",
            "\n"
          ]
        }
      ],
      "source": [
        "from xgboost import XGBClassifier\n",
        "from sklearn.model_selection import GridSearchCV\n",
        "from sklearn.metrics import classification_report\n",
        "\n",
        "# Define the parameter grid\n",
        "param_grid = {\n",
        "    'n_estimators': [100, 200, 300],\n",
        "    'max_depth': [3, 5, 7],\n",
        "    'learning_rate': [0.01, 0.1, 0.2],\n",
        "}\n",
        "\n",
        "# Initialize the XGBoost classifier with minimal settings\n",
        "xgb_tuned = XGBClassifier(random_state=42)\n",
        "\n",
        "# Initialize GridSearchCV\n",
        "grid_search = GridSearchCV(xgb_tuned, param_grid, cv=3, scoring='f1_macro', verbose=2, n_jobs=-1)\n",
        "\n",
        "# Fit GridSearchCV to the training data\n",
        "grid_search.fit(X_train_features, y_train_smote)\n",
        "\n",
        "# Best hyperparameters and score\n",
        "print(\"Best Hyperparameters:\", grid_search.best_params_)\n",
        "print(\"Best Score:\", grid_search.best_score_)\n",
        "\n",
        "# Evaluate on the test set\n",
        "y_pred = grid_search.best_estimator_.predict(X_test_features)\n",
        "print(classification_report(y_test, y_pred))"
      ]
    },
    {
      "cell_type": "markdown",
      "source": [
        "# Saving the best model using Joblib"
      ],
      "metadata": {
        "id": "gb8hfGXdgI0g"
      }
    },
    {
      "cell_type": "code",
      "execution_count": null,
      "metadata": {
        "id": "Kr_TNty0zsq-",
        "colab": {
          "base_uri": "https://localhost:8080/"
        },
        "outputId": "aad80624-10f6-42ad-dbd1-2283a38ea600"
      },
      "outputs": [
        {
          "output_type": "execute_result",
          "data": {
            "text/plain": [
              "['best_model.joblib']"
            ]
          },
          "metadata": {},
          "execution_count": 31
        }
      ],
      "source": [
        "import joblib\n",
        "joblib.dump(grid_search.best_estimator_, 'best_model.joblib')\n"
      ]
    },
    {
      "cell_type": "markdown",
      "source": [
        "# Evaluating the Train dataset using Joblib"
      ],
      "metadata": {
        "id": "1jzt70CngNkX"
      }
    },
    {
      "cell_type": "code",
      "source": [
        "import pandas as pd\n",
        "from sklearn.metrics import classification_report\n",
        "\n",
        "# Loading the trained model\n",
        "model = joblib.load('best_model.joblib')\n",
        "y_pred = model.predict(X_test_features)\n",
        "\n",
        "\n",
        "# Evaluating the model\n",
        "print(\"Test Set Classification Report (Top Features):\")\n",
        "print(classification_report(y_test, y_pred, target_names=['Class 0', 'Class 1', 'Class 2']))\n"
      ],
      "metadata": {
        "colab": {
          "base_uri": "https://localhost:8080/"
        },
        "id": "GuAayGnt1Gi-",
        "outputId": "bc1ff4fd-c1b9-462d-f007-75d6ce855c4a"
      },
      "execution_count": null,
      "outputs": [
        {
          "output_type": "stream",
          "name": "stdout",
          "text": [
            "Test Set Classification Report (Top Features):\n",
            "              precision    recall  f1-score   support\n",
            "\n",
            "     Class 0       0.95      0.95      0.95    592183\n",
            "     Class 1       0.90      0.93      0.91    298350\n",
            "     Class 2       0.96      0.94      0.95    482687\n",
            "\n",
            "    accuracy                           0.94   1373220\n",
            "   macro avg       0.94      0.94      0.94   1373220\n",
            "weighted avg       0.94      0.94      0.94   1373220\n",
            "\n"
          ]
        }
      ]
    },
    {
      "cell_type": "markdown",
      "source": [
        "# Evaluating the Test Dataset using the Best Model Joblib File"
      ],
      "metadata": {
        "id": "mdIY4B97flgl"
      }
    },
    {
      "cell_type": "code",
      "source": [
        "df_test = pd.read_csv('/content/drive/MyDrive/Project/4.Microsoft/test_cleaned.csv')\n",
        "df_test.head(5)"
      ],
      "metadata": {
        "colab": {
          "base_uri": "https://localhost:8080/",
          "height": 255
        },
        "id": "kToLBiKigbaH",
        "outputId": "6f8ba4a4-0a23-4caf-e07e-786ac923593d"
      },
      "execution_count": null,
      "outputs": [
        {
          "output_type": "execute_result",
          "data": {
            "text/plain": [
              "              Id  OrgId  IncidentId  AlertId  DetectorId  AlertTitle  \\\n",
              "0  1245540519230    657       11767    87199         524         563   \n",
              "1  1400159342154      3       91158   632273           2           2   \n",
              "2  1279900255923    145       32247   131719        2932       10807   \n",
              "3    60129547292    222       15294   917686           0           0   \n",
              "4   515396080539    363        7615     5944          27          18   \n",
              "\n",
              "   Category  IncidentGrade  EntityType  EvidenceRole  ...  ApplicationName  \\\n",
              "0        11              0          28             0  ...             3421   \n",
              "1         1              0          15             0  ...             3421   \n",
              "2        11              0          23             1  ...             3421   \n",
              "3        10              1           7             1  ...             3421   \n",
              "4         5              0          28             0  ...             3421   \n",
              "\n",
              "   OAuthApplicationId  FileName  ResourceIdName  OSVersion   City  Day  Year  \\\n",
              "0                 881    289573            3586         66  10630    4  2024   \n",
              "1                 881    289573            3586          0  10630    3  2024   \n",
              "2                 881        14            3586         66  10630    8  2024   \n",
              "3                 881    289573            3586         66  10630   12  2024   \n",
              "4                 881    289573            3586         66  10630    6  2024   \n",
              "\n",
              "   Hour   Time  \n",
              "0    22  82520  \n",
              "1    12  46649  \n",
              "2     3  12037  \n",
              "3    12  43594  \n",
              "4    17  63665  \n",
              "\n",
              "[5 rows x 27 columns]"
            ],
            "text/html": [
              "\n",
              "  <div id=\"df-63fee0a0-2a76-41ef-9c65-183806f5d7cc\" class=\"colab-df-container\">\n",
              "    <div>\n",
              "<style scoped>\n",
              "    .dataframe tbody tr th:only-of-type {\n",
              "        vertical-align: middle;\n",
              "    }\n",
              "\n",
              "    .dataframe tbody tr th {\n",
              "        vertical-align: top;\n",
              "    }\n",
              "\n",
              "    .dataframe thead th {\n",
              "        text-align: right;\n",
              "    }\n",
              "</style>\n",
              "<table border=\"1\" class=\"dataframe\">\n",
              "  <thead>\n",
              "    <tr style=\"text-align: right;\">\n",
              "      <th></th>\n",
              "      <th>Id</th>\n",
              "      <th>OrgId</th>\n",
              "      <th>IncidentId</th>\n",
              "      <th>AlertId</th>\n",
              "      <th>DetectorId</th>\n",
              "      <th>AlertTitle</th>\n",
              "      <th>Category</th>\n",
              "      <th>IncidentGrade</th>\n",
              "      <th>EntityType</th>\n",
              "      <th>EvidenceRole</th>\n",
              "      <th>...</th>\n",
              "      <th>ApplicationName</th>\n",
              "      <th>OAuthApplicationId</th>\n",
              "      <th>FileName</th>\n",
              "      <th>ResourceIdName</th>\n",
              "      <th>OSVersion</th>\n",
              "      <th>City</th>\n",
              "      <th>Day</th>\n",
              "      <th>Year</th>\n",
              "      <th>Hour</th>\n",
              "      <th>Time</th>\n",
              "    </tr>\n",
              "  </thead>\n",
              "  <tbody>\n",
              "    <tr>\n",
              "      <th>0</th>\n",
              "      <td>1245540519230</td>\n",
              "      <td>657</td>\n",
              "      <td>11767</td>\n",
              "      <td>87199</td>\n",
              "      <td>524</td>\n",
              "      <td>563</td>\n",
              "      <td>11</td>\n",
              "      <td>0</td>\n",
              "      <td>28</td>\n",
              "      <td>0</td>\n",
              "      <td>...</td>\n",
              "      <td>3421</td>\n",
              "      <td>881</td>\n",
              "      <td>289573</td>\n",
              "      <td>3586</td>\n",
              "      <td>66</td>\n",
              "      <td>10630</td>\n",
              "      <td>4</td>\n",
              "      <td>2024</td>\n",
              "      <td>22</td>\n",
              "      <td>82520</td>\n",
              "    </tr>\n",
              "    <tr>\n",
              "      <th>1</th>\n",
              "      <td>1400159342154</td>\n",
              "      <td>3</td>\n",
              "      <td>91158</td>\n",
              "      <td>632273</td>\n",
              "      <td>2</td>\n",
              "      <td>2</td>\n",
              "      <td>1</td>\n",
              "      <td>0</td>\n",
              "      <td>15</td>\n",
              "      <td>0</td>\n",
              "      <td>...</td>\n",
              "      <td>3421</td>\n",
              "      <td>881</td>\n",
              "      <td>289573</td>\n",
              "      <td>3586</td>\n",
              "      <td>0</td>\n",
              "      <td>10630</td>\n",
              "      <td>3</td>\n",
              "      <td>2024</td>\n",
              "      <td>12</td>\n",
              "      <td>46649</td>\n",
              "    </tr>\n",
              "    <tr>\n",
              "      <th>2</th>\n",
              "      <td>1279900255923</td>\n",
              "      <td>145</td>\n",
              "      <td>32247</td>\n",
              "      <td>131719</td>\n",
              "      <td>2932</td>\n",
              "      <td>10807</td>\n",
              "      <td>11</td>\n",
              "      <td>0</td>\n",
              "      <td>23</td>\n",
              "      <td>1</td>\n",
              "      <td>...</td>\n",
              "      <td>3421</td>\n",
              "      <td>881</td>\n",
              "      <td>14</td>\n",
              "      <td>3586</td>\n",
              "      <td>66</td>\n",
              "      <td>10630</td>\n",
              "      <td>8</td>\n",
              "      <td>2024</td>\n",
              "      <td>3</td>\n",
              "      <td>12037</td>\n",
              "    </tr>\n",
              "    <tr>\n",
              "      <th>3</th>\n",
              "      <td>60129547292</td>\n",
              "      <td>222</td>\n",
              "      <td>15294</td>\n",
              "      <td>917686</td>\n",
              "      <td>0</td>\n",
              "      <td>0</td>\n",
              "      <td>10</td>\n",
              "      <td>1</td>\n",
              "      <td>7</td>\n",
              "      <td>1</td>\n",
              "      <td>...</td>\n",
              "      <td>3421</td>\n",
              "      <td>881</td>\n",
              "      <td>289573</td>\n",
              "      <td>3586</td>\n",
              "      <td>66</td>\n",
              "      <td>10630</td>\n",
              "      <td>12</td>\n",
              "      <td>2024</td>\n",
              "      <td>12</td>\n",
              "      <td>43594</td>\n",
              "    </tr>\n",
              "    <tr>\n",
              "      <th>4</th>\n",
              "      <td>515396080539</td>\n",
              "      <td>363</td>\n",
              "      <td>7615</td>\n",
              "      <td>5944</td>\n",
              "      <td>27</td>\n",
              "      <td>18</td>\n",
              "      <td>5</td>\n",
              "      <td>0</td>\n",
              "      <td>28</td>\n",
              "      <td>0</td>\n",
              "      <td>...</td>\n",
              "      <td>3421</td>\n",
              "      <td>881</td>\n",
              "      <td>289573</td>\n",
              "      <td>3586</td>\n",
              "      <td>66</td>\n",
              "      <td>10630</td>\n",
              "      <td>6</td>\n",
              "      <td>2024</td>\n",
              "      <td>17</td>\n",
              "      <td>63665</td>\n",
              "    </tr>\n",
              "  </tbody>\n",
              "</table>\n",
              "<p>5 rows × 27 columns</p>\n",
              "</div>\n",
              "    <div class=\"colab-df-buttons\">\n",
              "\n",
              "  <div class=\"colab-df-container\">\n",
              "    <button class=\"colab-df-convert\" onclick=\"convertToInteractive('df-63fee0a0-2a76-41ef-9c65-183806f5d7cc')\"\n",
              "            title=\"Convert this dataframe to an interactive table.\"\n",
              "            style=\"display:none;\">\n",
              "\n",
              "  <svg xmlns=\"http://www.w3.org/2000/svg\" height=\"24px\" viewBox=\"0 -960 960 960\">\n",
              "    <path d=\"M120-120v-720h720v720H120Zm60-500h600v-160H180v160Zm220 220h160v-160H400v160Zm0 220h160v-160H400v160ZM180-400h160v-160H180v160Zm440 0h160v-160H620v160ZM180-180h160v-160H180v160Zm440 0h160v-160H620v160Z\"/>\n",
              "  </svg>\n",
              "    </button>\n",
              "\n",
              "  <style>\n",
              "    .colab-df-container {\n",
              "      display:flex;\n",
              "      gap: 12px;\n",
              "    }\n",
              "\n",
              "    .colab-df-convert {\n",
              "      background-color: #E8F0FE;\n",
              "      border: none;\n",
              "      border-radius: 50%;\n",
              "      cursor: pointer;\n",
              "      display: none;\n",
              "      fill: #1967D2;\n",
              "      height: 32px;\n",
              "      padding: 0 0 0 0;\n",
              "      width: 32px;\n",
              "    }\n",
              "\n",
              "    .colab-df-convert:hover {\n",
              "      background-color: #E2EBFA;\n",
              "      box-shadow: 0px 1px 2px rgba(60, 64, 67, 0.3), 0px 1px 3px 1px rgba(60, 64, 67, 0.15);\n",
              "      fill: #174EA6;\n",
              "    }\n",
              "\n",
              "    .colab-df-buttons div {\n",
              "      margin-bottom: 4px;\n",
              "    }\n",
              "\n",
              "    [theme=dark] .colab-df-convert {\n",
              "      background-color: #3B4455;\n",
              "      fill: #D2E3FC;\n",
              "    }\n",
              "\n",
              "    [theme=dark] .colab-df-convert:hover {\n",
              "      background-color: #434B5C;\n",
              "      box-shadow: 0px 1px 3px 1px rgba(0, 0, 0, 0.15);\n",
              "      filter: drop-shadow(0px 1px 2px rgba(0, 0, 0, 0.3));\n",
              "      fill: #FFFFFF;\n",
              "    }\n",
              "  </style>\n",
              "\n",
              "    <script>\n",
              "      const buttonEl =\n",
              "        document.querySelector('#df-63fee0a0-2a76-41ef-9c65-183806f5d7cc button.colab-df-convert');\n",
              "      buttonEl.style.display =\n",
              "        google.colab.kernel.accessAllowed ? 'block' : 'none';\n",
              "\n",
              "      async function convertToInteractive(key) {\n",
              "        const element = document.querySelector('#df-63fee0a0-2a76-41ef-9c65-183806f5d7cc');\n",
              "        const dataTable =\n",
              "          await google.colab.kernel.invokeFunction('convertToInteractive',\n",
              "                                                    [key], {});\n",
              "        if (!dataTable) return;\n",
              "\n",
              "        const docLinkHtml = 'Like what you see? Visit the ' +\n",
              "          '<a target=\"_blank\" href=https://colab.research.google.com/notebooks/data_table.ipynb>data table notebook</a>'\n",
              "          + ' to learn more about interactive tables.';\n",
              "        element.innerHTML = '';\n",
              "        dataTable['output_type'] = 'display_data';\n",
              "        await google.colab.output.renderOutput(dataTable, element);\n",
              "        const docLink = document.createElement('div');\n",
              "        docLink.innerHTML = docLinkHtml;\n",
              "        element.appendChild(docLink);\n",
              "      }\n",
              "    </script>\n",
              "  </div>\n",
              "\n",
              "\n",
              "<div id=\"df-8080aec0-b5dc-44f1-a87d-a005b2a41816\">\n",
              "  <button class=\"colab-df-quickchart\" onclick=\"quickchart('df-8080aec0-b5dc-44f1-a87d-a005b2a41816')\"\n",
              "            title=\"Suggest charts\"\n",
              "            style=\"display:none;\">\n",
              "\n",
              "<svg xmlns=\"http://www.w3.org/2000/svg\" height=\"24px\"viewBox=\"0 0 24 24\"\n",
              "     width=\"24px\">\n",
              "    <g>\n",
              "        <path d=\"M19 3H5c-1.1 0-2 .9-2 2v14c0 1.1.9 2 2 2h14c1.1 0 2-.9 2-2V5c0-1.1-.9-2-2-2zM9 17H7v-7h2v7zm4 0h-2V7h2v10zm4 0h-2v-4h2v4z\"/>\n",
              "    </g>\n",
              "</svg>\n",
              "  </button>\n",
              "\n",
              "<style>\n",
              "  .colab-df-quickchart {\n",
              "      --bg-color: #E8F0FE;\n",
              "      --fill-color: #1967D2;\n",
              "      --hover-bg-color: #E2EBFA;\n",
              "      --hover-fill-color: #174EA6;\n",
              "      --disabled-fill-color: #AAA;\n",
              "      --disabled-bg-color: #DDD;\n",
              "  }\n",
              "\n",
              "  [theme=dark] .colab-df-quickchart {\n",
              "      --bg-color: #3B4455;\n",
              "      --fill-color: #D2E3FC;\n",
              "      --hover-bg-color: #434B5C;\n",
              "      --hover-fill-color: #FFFFFF;\n",
              "      --disabled-bg-color: #3B4455;\n",
              "      --disabled-fill-color: #666;\n",
              "  }\n",
              "\n",
              "  .colab-df-quickchart {\n",
              "    background-color: var(--bg-color);\n",
              "    border: none;\n",
              "    border-radius: 50%;\n",
              "    cursor: pointer;\n",
              "    display: none;\n",
              "    fill: var(--fill-color);\n",
              "    height: 32px;\n",
              "    padding: 0;\n",
              "    width: 32px;\n",
              "  }\n",
              "\n",
              "  .colab-df-quickchart:hover {\n",
              "    background-color: var(--hover-bg-color);\n",
              "    box-shadow: 0 1px 2px rgba(60, 64, 67, 0.3), 0 1px 3px 1px rgba(60, 64, 67, 0.15);\n",
              "    fill: var(--button-hover-fill-color);\n",
              "  }\n",
              "\n",
              "  .colab-df-quickchart-complete:disabled,\n",
              "  .colab-df-quickchart-complete:disabled:hover {\n",
              "    background-color: var(--disabled-bg-color);\n",
              "    fill: var(--disabled-fill-color);\n",
              "    box-shadow: none;\n",
              "  }\n",
              "\n",
              "  .colab-df-spinner {\n",
              "    border: 2px solid var(--fill-color);\n",
              "    border-color: transparent;\n",
              "    border-bottom-color: var(--fill-color);\n",
              "    animation:\n",
              "      spin 1s steps(1) infinite;\n",
              "  }\n",
              "\n",
              "  @keyframes spin {\n",
              "    0% {\n",
              "      border-color: transparent;\n",
              "      border-bottom-color: var(--fill-color);\n",
              "      border-left-color: var(--fill-color);\n",
              "    }\n",
              "    20% {\n",
              "      border-color: transparent;\n",
              "      border-left-color: var(--fill-color);\n",
              "      border-top-color: var(--fill-color);\n",
              "    }\n",
              "    30% {\n",
              "      border-color: transparent;\n",
              "      border-left-color: var(--fill-color);\n",
              "      border-top-color: var(--fill-color);\n",
              "      border-right-color: var(--fill-color);\n",
              "    }\n",
              "    40% {\n",
              "      border-color: transparent;\n",
              "      border-right-color: var(--fill-color);\n",
              "      border-top-color: var(--fill-color);\n",
              "    }\n",
              "    60% {\n",
              "      border-color: transparent;\n",
              "      border-right-color: var(--fill-color);\n",
              "    }\n",
              "    80% {\n",
              "      border-color: transparent;\n",
              "      border-right-color: var(--fill-color);\n",
              "      border-bottom-color: var(--fill-color);\n",
              "    }\n",
              "    90% {\n",
              "      border-color: transparent;\n",
              "      border-bottom-color: var(--fill-color);\n",
              "    }\n",
              "  }\n",
              "</style>\n",
              "\n",
              "  <script>\n",
              "    async function quickchart(key) {\n",
              "      const quickchartButtonEl =\n",
              "        document.querySelector('#' + key + ' button');\n",
              "      quickchartButtonEl.disabled = true;  // To prevent multiple clicks.\n",
              "      quickchartButtonEl.classList.add('colab-df-spinner');\n",
              "      try {\n",
              "        const charts = await google.colab.kernel.invokeFunction(\n",
              "            'suggestCharts', [key], {});\n",
              "      } catch (error) {\n",
              "        console.error('Error during call to suggestCharts:', error);\n",
              "      }\n",
              "      quickchartButtonEl.classList.remove('colab-df-spinner');\n",
              "      quickchartButtonEl.classList.add('colab-df-quickchart-complete');\n",
              "    }\n",
              "    (() => {\n",
              "      let quickchartButtonEl =\n",
              "        document.querySelector('#df-8080aec0-b5dc-44f1-a87d-a005b2a41816 button');\n",
              "      quickchartButtonEl.style.display =\n",
              "        google.colab.kernel.accessAllowed ? 'block' : 'none';\n",
              "    })();\n",
              "  </script>\n",
              "</div>\n",
              "\n",
              "    </div>\n",
              "  </div>\n"
            ],
            "application/vnd.google.colaboratory.intrinsic+json": {
              "type": "dataframe",
              "variable_name": "df_test"
            }
          },
          "metadata": {},
          "execution_count": 9
        }
      ]
    },
    {
      "cell_type": "code",
      "source": [
        "from sklearn.model_selection import train_test_split\n",
        "X = df_test.drop(columns=['Id', 'IncidentGrade'])\n",
        "y = df_test['IncidentGrade']\n",
        "\n",
        "X_train, X_test, y_train, y_test = train_test_split(X, y, test_size=0.2, random_state=42)"
      ],
      "metadata": {
        "id": "-54bQXK7gfjV"
      },
      "execution_count": null,
      "outputs": []
    },
    {
      "cell_type": "code",
      "source": [
        "top_features = ['OrgId', 'IncidentId', 'AlertTitle', 'DetectorId',\n",
        "                   'AlertId', 'Category', 'Hour', 'Time', 'Day', 'EntityType', 'City']"
      ],
      "metadata": {
        "id": "Hedn5XCggfgf"
      },
      "execution_count": null,
      "outputs": []
    },
    {
      "cell_type": "code",
      "source": [
        "X_train_features = X_train[top_features]\n",
        "X_test_features = X_test[top_features]"
      ],
      "metadata": {
        "id": "Gwlpfs-Lgfd_"
      },
      "execution_count": null,
      "outputs": []
    },
    {
      "cell_type": "code",
      "source": [
        "model = joblib.load('/content/drive/MyDrive/Project/4.Microsoft/best_model.joblib')\n",
        "y_pred = model.predict(X_test_features)"
      ],
      "metadata": {
        "id": "-4s95e8Fgfbi"
      },
      "execution_count": null,
      "outputs": []
    },
    {
      "cell_type": "code",
      "source": [
        "print(\"Test Set Classification Report (Top Features):\")\n",
        "print(classification_report(y_test, y_pred, target_names=['Class 0', 'Class 1', 'Class 2']))"
      ],
      "metadata": {
        "colab": {
          "base_uri": "https://localhost:8080/"
        },
        "id": "lJu8c1N-gfYr",
        "outputId": "40119c54-c395-426b-a2ca-0f2f3176b2ca"
      },
      "execution_count": null,
      "outputs": [
        {
          "output_type": "stream",
          "name": "stdout",
          "text": [
            "Test Set Classification Report (Top Features):\n",
            "              precision    recall  f1-score   support\n",
            "\n",
            "     Class 0       0.95      0.82      0.88    350749\n",
            "     Class 1       0.73      0.92      0.81    181180\n",
            "     Class 2       0.91      0.92      0.92    297649\n",
            "\n",
            "    accuracy                           0.88    829578\n",
            "   macro avg       0.86      0.89      0.87    829578\n",
            "weighted avg       0.89      0.88      0.88    829578\n",
            "\n"
          ]
        }
      ]
    }
  ],
  "metadata": {
    "colab": {
      "collapsed_sections": [
        "YqKB-W0us5AC",
        "v8QNjP1zST4O",
        "p8KB3-BrSKkX",
        "-SA5E9W3ToZJ",
        "_LRQjTvOTvCb",
        "r5EFtVZPYdXO",
        "hb-iAvI8YW-1",
        "Cp1sMPb2ckly",
        "GACS5sPUcctC",
        "9BrZ3VRvdpfe",
        "XY1Ahixrx23f",
        "SY3aCUkoBknO",
        "gb8hfGXdgI0g",
        "1jzt70CngNkX"
      ],
      "provenance": []
    },
    "kernelspec": {
      "display_name": "Python 3",
      "name": "python3"
    },
    "language_info": {
      "name": "python"
    }
  },
  "nbformat": 4,
  "nbformat_minor": 0
}